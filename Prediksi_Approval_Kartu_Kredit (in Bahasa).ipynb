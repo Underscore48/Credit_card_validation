{
 "cells": [
  {
   "cell_type": "markdown",
   "metadata": {},
   "source": [
    "# Transaksi Kartu Kredit Perbankan"
   ]
  },
  {
   "cell_type": "markdown",
   "metadata": {},
   "source": [
    "## Pendahuluan"
   ]
  },
  {
   "cell_type": "markdown",
   "metadata": {},
   "source": [
    "Ada banyak sekali proses transaksi kartu kredit yang diajukan oleh para nasabah perbankan dalam setiap harinya. Dalam setiap detik dimungkinkan ada ribuan bahkan jutaan kali transaksi yang masuk ke sistem perbankan.\n",
    "\n",
    "Namun, apakah semua transaksi yang diajukan tersebut bersifat valid tanpa ada pihak-pihak tertentu yang mungkin ingin melakukan kecurangan (fraud) terhadap Bank?.\n",
    "\n",
    "Nyatanya, dari keseluruhan proses transaksi yang masuk ke dalam sistem, hanya 99% transaksi yang benar-benar diajukan oleh para nasabah, 1% lainnya bersifat fraud yang diajukan oleh para pihak-pihak yang kurang bertanggung jawab. Meskipun persentase kecurangannya yang sangat kecil namun dengan jumlah proses transaksi serta nominal yang besar tetap akan membuat kerugian bagi Bank.\n",
    "\n",
    "Jika kecurangan tersebut dibiarkan secara terus menerus maka akan membuat semakin banyak pihak-pihak kurang bertanggung jawab lainnya yang ikut melakukan hal buruk tersebut. Jika hal tersebut terjadi maka angka 1% ini akan terus membesar secara eksponensial dari waktu ke waktu. Sehingga akan menyebabkan kerugian yang besar bagi Bank, baik kerugian secara materiil maupun non materiil seperti kepercayaan nasabah yang akhirnya membuat para nasabah beralih menjadi nasabah Bank kompetitor. "
   ]
  },
  {
   "cell_type": "markdown",
   "metadata": {},
   "source": [
    "Dengan jumlah transaksi yang sangat banyak serta harus diproses oleh sistem dengan sangat cepat dan akurat (benefit penggunaan kartu kredit) maka tidak mungkin bagi manusia untuk bisa memvalidasi secara manual setiap transaksi yang diajukan oleh para nasabah bersifat valid atau fraud.\n",
    "\n",
    "Oleh karena itu perlu diterapkan sistem validasi otomatis untuk memproses setiap transaksi yang masuk ke dalam sistem perbankan dengan akurasi skor maksimum 100% yaitu dengan menggunakan <em>\"Machine Learning\"</em>.\n",
    "\n",
    "Kenapa akurasi skor sistem harus 100%?\n",
    "Karena, jika akurasi score dari sistem validasi otomatis tersebut ≤99% maka dapat dinyatakan bahwa sistem tersebut gagal secara praktik, karena tidak ada perbedaan yang terjadi antara sebelum dengan setelah menerapkan sistem Machine Learning validation. bahkan dalam kasus tertentu (akurasi <90%) dapat merugikan nasabah karena kesalahan evaluasi."
   ]
  },
  {
   "cell_type": "markdown",
   "metadata": {},
   "source": [
    "### Import Dataset"
   ]
  },
  {
   "cell_type": "markdown",
   "metadata": {},
   "source": [
    "Dataset yang digunakan dalam portofolio ini adalah dataset <a href=\"http://archive.ics.uci.edu/ml/datasets/credit+approval\">Credit Card Approval dataset</a> dari The UCI Machine Learning Repository."
   ]
  },
  {
   "cell_type": "code",
   "execution_count": 1,
   "metadata": {},
   "outputs": [
    {
     "data": {
      "text/html": [
       "<div>\n",
       "<style scoped>\n",
       "    .dataframe tbody tr th:only-of-type {\n",
       "        vertical-align: middle;\n",
       "    }\n",
       "\n",
       "    .dataframe tbody tr th {\n",
       "        vertical-align: top;\n",
       "    }\n",
       "\n",
       "    .dataframe thead th {\n",
       "        text-align: right;\n",
       "    }\n",
       "</style>\n",
       "<table border=\"1\" class=\"dataframe\">\n",
       "  <thead>\n",
       "    <tr style=\"text-align: right;\">\n",
       "      <th></th>\n",
       "      <th>b</th>\n",
       "      <th>30.83</th>\n",
       "      <th>0</th>\n",
       "      <th>u</th>\n",
       "      <th>g</th>\n",
       "      <th>w</th>\n",
       "      <th>v</th>\n",
       "      <th>1.25</th>\n",
       "      <th>t</th>\n",
       "      <th>t.1</th>\n",
       "      <th>01</th>\n",
       "      <th>f</th>\n",
       "      <th>g.1</th>\n",
       "      <th>00202</th>\n",
       "      <th>0.1</th>\n",
       "      <th>+</th>\n",
       "    </tr>\n",
       "  </thead>\n",
       "  <tbody>\n",
       "    <tr>\n",
       "      <th>0</th>\n",
       "      <td>a</td>\n",
       "      <td>58.67</td>\n",
       "      <td>4.460</td>\n",
       "      <td>u</td>\n",
       "      <td>g</td>\n",
       "      <td>q</td>\n",
       "      <td>h</td>\n",
       "      <td>3.04</td>\n",
       "      <td>t</td>\n",
       "      <td>t</td>\n",
       "      <td>6</td>\n",
       "      <td>f</td>\n",
       "      <td>g</td>\n",
       "      <td>00043</td>\n",
       "      <td>560</td>\n",
       "      <td>+</td>\n",
       "    </tr>\n",
       "    <tr>\n",
       "      <th>1</th>\n",
       "      <td>a</td>\n",
       "      <td>24.50</td>\n",
       "      <td>0.500</td>\n",
       "      <td>u</td>\n",
       "      <td>g</td>\n",
       "      <td>q</td>\n",
       "      <td>h</td>\n",
       "      <td>1.50</td>\n",
       "      <td>t</td>\n",
       "      <td>f</td>\n",
       "      <td>0</td>\n",
       "      <td>f</td>\n",
       "      <td>g</td>\n",
       "      <td>00280</td>\n",
       "      <td>824</td>\n",
       "      <td>+</td>\n",
       "    </tr>\n",
       "    <tr>\n",
       "      <th>2</th>\n",
       "      <td>b</td>\n",
       "      <td>27.83</td>\n",
       "      <td>1.540</td>\n",
       "      <td>u</td>\n",
       "      <td>g</td>\n",
       "      <td>w</td>\n",
       "      <td>v</td>\n",
       "      <td>3.75</td>\n",
       "      <td>t</td>\n",
       "      <td>t</td>\n",
       "      <td>5</td>\n",
       "      <td>t</td>\n",
       "      <td>g</td>\n",
       "      <td>00100</td>\n",
       "      <td>3</td>\n",
       "      <td>+</td>\n",
       "    </tr>\n",
       "    <tr>\n",
       "      <th>3</th>\n",
       "      <td>b</td>\n",
       "      <td>20.17</td>\n",
       "      <td>5.625</td>\n",
       "      <td>u</td>\n",
       "      <td>g</td>\n",
       "      <td>w</td>\n",
       "      <td>v</td>\n",
       "      <td>1.71</td>\n",
       "      <td>t</td>\n",
       "      <td>f</td>\n",
       "      <td>0</td>\n",
       "      <td>f</td>\n",
       "      <td>s</td>\n",
       "      <td>00120</td>\n",
       "      <td>0</td>\n",
       "      <td>+</td>\n",
       "    </tr>\n",
       "    <tr>\n",
       "      <th>4</th>\n",
       "      <td>b</td>\n",
       "      <td>32.08</td>\n",
       "      <td>4.000</td>\n",
       "      <td>u</td>\n",
       "      <td>g</td>\n",
       "      <td>m</td>\n",
       "      <td>v</td>\n",
       "      <td>2.50</td>\n",
       "      <td>t</td>\n",
       "      <td>f</td>\n",
       "      <td>0</td>\n",
       "      <td>t</td>\n",
       "      <td>g</td>\n",
       "      <td>00360</td>\n",
       "      <td>0</td>\n",
       "      <td>+</td>\n",
       "    </tr>\n",
       "  </tbody>\n",
       "</table>\n",
       "</div>"
      ],
      "text/plain": [
       "   b  30.83      0  u  g  w  v  1.25  t t.1  01  f g.1  00202  0.1  +\n",
       "0  a  58.67  4.460  u  g  q  h  3.04  t   t   6  f   g  00043  560  +\n",
       "1  a  24.50  0.500  u  g  q  h  1.50  t   f   0  f   g  00280  824  +\n",
       "2  b  27.83  1.540  u  g  w  v  3.75  t   t   5  t   g  00100    3  +\n",
       "3  b  20.17  5.625  u  g  w  v  1.71  t   f   0  f   s  00120    0  +\n",
       "4  b  32.08  4.000  u  g  m  v  2.50  t   f   0  t   g  00360    0  +"
      ]
     },
     "execution_count": 1,
     "metadata": {},
     "output_type": "execute_result"
    }
   ],
   "source": [
    "import pandas as pd\n",
    "\n",
    "kk_dataset = pd.read_csv('datasets/cc_approvals.data')\n",
    "kk_dataset.head()"
   ]
  },
  {
   "cell_type": "markdown",
   "metadata": {},
   "source": [
    "Tabel diatas adalah tabel history transaksi kartu kredit yang telah disamarkan untuk menjaga privasi data nasabah, oleh karena itu nama dari setiap kolom dalam tabel tersebut disamarkan. Namun, dalam blog <a href=\"http://rstudio-pubs-static.s3.amazonaws.com/73039_9946de135c0a49daa7a0a9eda4a67a72.html\">\"Analysis of Credit Approval Data\"</a> terdapat clue bahwa umumnya nama-nama kolom pada dataset perbankan secara berurutan adalah :\n",
    "- Gender\n",
    "- Age\n",
    "- Debt\n",
    "- Married\n",
    "- BankCustomer\n",
    "- EducationLevel\n",
    "- Ethnicity\n",
    "- YearEmployed\n",
    "- PriorDefault\n",
    "- Employed\n",
    "- CreditScore\n",
    "- DriverLicense\n",
    "- Citizen\n",
    "- ZipCode\n",
    "- Income\n",
    "- ApprovalStatus\n",
    "\n",
    "Untuk memudahkan, nama dari kolom tersebut akan diubah"
   ]
  },
  {
   "cell_type": "code",
   "execution_count": 2,
   "metadata": {},
   "outputs": [
    {
     "data": {
      "text/html": [
       "<div>\n",
       "<style scoped>\n",
       "    .dataframe tbody tr th:only-of-type {\n",
       "        vertical-align: middle;\n",
       "    }\n",
       "\n",
       "    .dataframe tbody tr th {\n",
       "        vertical-align: top;\n",
       "    }\n",
       "\n",
       "    .dataframe thead th {\n",
       "        text-align: right;\n",
       "    }\n",
       "</style>\n",
       "<table border=\"1\" class=\"dataframe\">\n",
       "  <thead>\n",
       "    <tr style=\"text-align: right;\">\n",
       "      <th></th>\n",
       "      <th>Gender</th>\n",
       "      <th>Age</th>\n",
       "      <th>Debt</th>\n",
       "      <th>Married</th>\n",
       "      <th>BankCustomer</th>\n",
       "      <th>EducationLevel</th>\n",
       "      <th>Ethnicity</th>\n",
       "      <th>YearEmployed</th>\n",
       "      <th>PriorDefault</th>\n",
       "      <th>Employed</th>\n",
       "      <th>CreditScore</th>\n",
       "      <th>Driverlicense</th>\n",
       "      <th>Citizen</th>\n",
       "      <th>ZipCode</th>\n",
       "      <th>Income</th>\n",
       "      <th>ApprovalStatus</th>\n",
       "    </tr>\n",
       "  </thead>\n",
       "  <tbody>\n",
       "    <tr>\n",
       "      <th>0</th>\n",
       "      <td>a</td>\n",
       "      <td>58.67</td>\n",
       "      <td>4.460</td>\n",
       "      <td>u</td>\n",
       "      <td>g</td>\n",
       "      <td>q</td>\n",
       "      <td>h</td>\n",
       "      <td>3.04</td>\n",
       "      <td>t</td>\n",
       "      <td>t</td>\n",
       "      <td>6</td>\n",
       "      <td>f</td>\n",
       "      <td>g</td>\n",
       "      <td>00043</td>\n",
       "      <td>560</td>\n",
       "      <td>+</td>\n",
       "    </tr>\n",
       "    <tr>\n",
       "      <th>1</th>\n",
       "      <td>a</td>\n",
       "      <td>24.50</td>\n",
       "      <td>0.500</td>\n",
       "      <td>u</td>\n",
       "      <td>g</td>\n",
       "      <td>q</td>\n",
       "      <td>h</td>\n",
       "      <td>1.50</td>\n",
       "      <td>t</td>\n",
       "      <td>f</td>\n",
       "      <td>0</td>\n",
       "      <td>f</td>\n",
       "      <td>g</td>\n",
       "      <td>00280</td>\n",
       "      <td>824</td>\n",
       "      <td>+</td>\n",
       "    </tr>\n",
       "    <tr>\n",
       "      <th>2</th>\n",
       "      <td>b</td>\n",
       "      <td>27.83</td>\n",
       "      <td>1.540</td>\n",
       "      <td>u</td>\n",
       "      <td>g</td>\n",
       "      <td>w</td>\n",
       "      <td>v</td>\n",
       "      <td>3.75</td>\n",
       "      <td>t</td>\n",
       "      <td>t</td>\n",
       "      <td>5</td>\n",
       "      <td>t</td>\n",
       "      <td>g</td>\n",
       "      <td>00100</td>\n",
       "      <td>3</td>\n",
       "      <td>+</td>\n",
       "    </tr>\n",
       "    <tr>\n",
       "      <th>3</th>\n",
       "      <td>b</td>\n",
       "      <td>20.17</td>\n",
       "      <td>5.625</td>\n",
       "      <td>u</td>\n",
       "      <td>g</td>\n",
       "      <td>w</td>\n",
       "      <td>v</td>\n",
       "      <td>1.71</td>\n",
       "      <td>t</td>\n",
       "      <td>f</td>\n",
       "      <td>0</td>\n",
       "      <td>f</td>\n",
       "      <td>s</td>\n",
       "      <td>00120</td>\n",
       "      <td>0</td>\n",
       "      <td>+</td>\n",
       "    </tr>\n",
       "    <tr>\n",
       "      <th>4</th>\n",
       "      <td>b</td>\n",
       "      <td>32.08</td>\n",
       "      <td>4.000</td>\n",
       "      <td>u</td>\n",
       "      <td>g</td>\n",
       "      <td>m</td>\n",
       "      <td>v</td>\n",
       "      <td>2.50</td>\n",
       "      <td>t</td>\n",
       "      <td>f</td>\n",
       "      <td>0</td>\n",
       "      <td>t</td>\n",
       "      <td>g</td>\n",
       "      <td>00360</td>\n",
       "      <td>0</td>\n",
       "      <td>+</td>\n",
       "    </tr>\n",
       "  </tbody>\n",
       "</table>\n",
       "</div>"
      ],
      "text/plain": [
       "  Gender    Age   Debt Married BankCustomer EducationLevel Ethnicity  \\\n",
       "0      a  58.67  4.460       u            g              q         h   \n",
       "1      a  24.50  0.500       u            g              q         h   \n",
       "2      b  27.83  1.540       u            g              w         v   \n",
       "3      b  20.17  5.625       u            g              w         v   \n",
       "4      b  32.08  4.000       u            g              m         v   \n",
       "\n",
       "   YearEmployed PriorDefault Employed  CreditScore Driverlicense Citizen  \\\n",
       "0          3.04            t        t            6             f       g   \n",
       "1          1.50            t        f            0             f       g   \n",
       "2          3.75            t        t            5             t       g   \n",
       "3          1.71            t        f            0             f       s   \n",
       "4          2.50            t        f            0             t       g   \n",
       "\n",
       "  ZipCode  Income ApprovalStatus  \n",
       "0   00043     560              +  \n",
       "1   00280     824              +  \n",
       "2   00100       3              +  \n",
       "3   00120       0              +  \n",
       "4   00360       0              +  "
      ]
     },
     "execution_count": 2,
     "metadata": {},
     "output_type": "execute_result"
    }
   ],
   "source": [
    "kk_dataset.columns = ['Gender','Age','Debt','Married','BankCustomer',\n",
    "                      'EducationLevel','Ethnicity','YearEmployed',\n",
    "                      'PriorDefault','Employed','CreditScore',\n",
    "                      'Driverlicense','Citizen','ZipCode','Income',\n",
    "                      'ApprovalStatus']\n",
    "\n",
    "kk_dataset.head()"
   ]
  },
  {
   "cell_type": "markdown",
   "metadata": {},
   "source": [
    "Sekarang Dataset sudah terlihat lebih baik.\n",
    "Namun, sebelum bisa membuat model <em>Machine learning</em>, issue atau permasalahan yang dimiliki oleh Dataset harus diidentifikasi terlebih dahulu."
   ]
  },
  {
   "cell_type": "code",
   "execution_count": 3,
   "metadata": {},
   "outputs": [
    {
     "name": "stdout",
     "output_type": "stream",
     "text": [
      "<class 'pandas.core.frame.DataFrame'>\n",
      "RangeIndex: 689 entries, 0 to 688\n",
      "Data columns (total 16 columns):\n",
      " #   Column          Non-Null Count  Dtype  \n",
      "---  ------          --------------  -----  \n",
      " 0   Gender          689 non-null    object \n",
      " 1   Age             689 non-null    object \n",
      " 2   Debt            689 non-null    float64\n",
      " 3   Married         689 non-null    object \n",
      " 4   BankCustomer    689 non-null    object \n",
      " 5   EducationLevel  689 non-null    object \n",
      " 6   Ethnicity       689 non-null    object \n",
      " 7   YearEmployed    689 non-null    float64\n",
      " 8   PriorDefault    689 non-null    object \n",
      " 9   Employed        689 non-null    object \n",
      " 10  CreditScore     689 non-null    int64  \n",
      " 11  Driverlicense   689 non-null    object \n",
      " 12  Citizen         689 non-null    object \n",
      " 13  ZipCode         689 non-null    object \n",
      " 14  Income          689 non-null    int64  \n",
      " 15  ApprovalStatus  689 non-null    object \n",
      "dtypes: float64(2), int64(2), object(12)\n",
      "memory usage: 86.2+ KB\n",
      "None\n"
     ]
    }
   ],
   "source": [
    "print(kk_dataset.info())"
   ]
  },
  {
   "cell_type": "markdown",
   "metadata": {},
   "source": [
    "Terdeteksi tidak ada Null.\n",
    "\n",
    "Pemeriksaan lanjutan dengan menggunakan string yang umum ditemukan atau digunakan sebagai missing values"
   ]
  },
  {
   "cell_type": "code",
   "execution_count": 4,
   "metadata": {},
   "outputs": [
    {
     "name": "stdout",
     "output_type": "stream",
     "text": [
      "    Gender    Age   Debt Married BankCustomer EducationLevel Ethnicity  \\\n",
      "70       b  34.83  4.000       u            g              d        bb   \n",
      "82       a      ?  3.500       u            g              d         v   \n",
      "85       b      ?  0.375       u            g              d         v   \n",
      "91       b      ?  5.000       y            p             aa         v   \n",
      "96       b      ?  0.500       u            g              c        bb   \n",
      "..     ...    ...    ...     ...          ...            ...       ...   \n",
      "621      a  25.58  0.000       ?            ?              ?         ?   \n",
      "621      a  25.58  0.000       ?            ?              ?         ?   \n",
      "625      b  22.00  7.835       y            p              i        bb   \n",
      "640      ?  33.17  2.250       y            p             cc         v   \n",
      "672      ?  29.50  2.000       y            p              e         h   \n",
      "\n",
      "     YearEmployed PriorDefault Employed  CreditScore Driverlicense Citizen  \\\n",
      "70         12.500            t        f            0             t       g   \n",
      "82          3.000            t        f            0             t       g   \n",
      "85          0.875            t        f            0             t       s   \n",
      "91          8.500            t        f            0             f       g   \n",
      "96          0.835            t        f            0             t       s   \n",
      "..            ...          ...      ...          ...           ...     ...   \n",
      "621         0.000            f        f            0             f       p   \n",
      "621         0.000            f        f            0             f       p   \n",
      "625         0.165            f        f            0             t       g   \n",
      "640         3.500            f        f            0             t       g   \n",
      "672         2.000            f        f            0             f       g   \n",
      "\n",
      "    ZipCode  Income ApprovalStatus  \n",
      "70        ?       0              -  \n",
      "82    00300       0              -  \n",
      "85    00928       0              -  \n",
      "91    00000       0              -  \n",
      "96    00320       0              -  \n",
      "..      ...     ...            ...  \n",
      "621       ?       0              +  \n",
      "621       ?       0              +  \n",
      "625       ?       0              -  \n",
      "640   00200     141              -  \n",
      "672   00256      17              -  \n",
      "\n",
      "[67 rows x 16 columns]\n",
      "Empty DataFrame\n",
      "Columns: [Gender, Age, Debt, Married, BankCustomer, EducationLevel, Ethnicity, YearEmployed, PriorDefault, Employed, CreditScore, Driverlicense, Citizen, ZipCode, Income, ApprovalStatus]\n",
      "Index: []\n",
      "Empty DataFrame\n",
      "Columns: [Gender, Age, Debt, Married, BankCustomer, EducationLevel, Ethnicity, YearEmployed, PriorDefault, Employed, CreditScore, Driverlicense, Citizen, ZipCode, Income, ApprovalStatus]\n",
      "Index: []\n"
     ]
    }
   ],
   "source": [
    "print(kk_dataset[kk_dataset.values=='?'])\n",
    "print(kk_dataset[kk_dataset.values==' '])\n",
    "print(kk_dataset[kk_dataset.values==''])"
   ]
  },
  {
   "cell_type": "markdown",
   "metadata": {},
   "source": [
    "Terdapat cell missing values dengan nilai string '?', yaitu pada kolom:"
   ]
  },
  {
   "cell_type": "code",
   "execution_count": 5,
   "metadata": {},
   "outputs": [
    {
     "name": "stdout",
     "output_type": "stream",
     "text": [
      "Index(['Gender', 'Age', 'Married', 'BankCustomer', 'EducationLevel',\n",
      "       'Ethnicity', 'ZipCode'],\n",
      "      dtype='object')\n",
      "Gender            12\n",
      "Age               12\n",
      "Debt               0\n",
      "Married            6\n",
      "BankCustomer       6\n",
      "EducationLevel     9\n",
      "Ethnicity          9\n",
      "YearEmployed       0\n",
      "PriorDefault       0\n",
      "Employed           0\n",
      "CreditScore        0\n",
      "Driverlicense      0\n",
      "Citizen            0\n",
      "ZipCode           13\n",
      "Income             0\n",
      "ApprovalStatus     0\n",
      "dtype: int64\n",
      "total missing values = 67\n"
     ]
    }
   ],
   "source": [
    "print(kk_dataset.columns[kk_dataset.isin(['?']).any()])\n",
    "print(kk_dataset.isin(['?']).sum())\n",
    "n_missing = kk_dataset.isin(['?']).sum().sum()\n",
    "print('total missing values =',n_missing)"
   ]
  },
  {
   "cell_type": "markdown",
   "metadata": {},
   "source": [
    "Dari  investigasi, terdapat 67 baris pada 7 kolom data yang memiliki nilai cell '?'. Permasalahan ini disebut dengan missing values.\n",
    "\n",
    "Model machine learning tidak akan bisa dibuat jika masih terdapat missing values. Oleh karena itu masalah ini harus diatasi terlebih dahulu. Namun, sebelum itu kolom-kolom yang dinilai tidak penting atau tidak berkaitan dengan valid tidaknya suatu transfaksi kartu kredit akan dihilangkan terlebih dahulu."
   ]
  },
  {
   "cell_type": "code",
   "execution_count": 6,
   "metadata": {},
   "outputs": [
    {
     "data": {
      "text/html": [
       "<div>\n",
       "<style scoped>\n",
       "    .dataframe tbody tr th:only-of-type {\n",
       "        vertical-align: middle;\n",
       "    }\n",
       "\n",
       "    .dataframe tbody tr th {\n",
       "        vertical-align: top;\n",
       "    }\n",
       "\n",
       "    .dataframe thead th {\n",
       "        text-align: right;\n",
       "    }\n",
       "</style>\n",
       "<table border=\"1\" class=\"dataframe\">\n",
       "  <thead>\n",
       "    <tr style=\"text-align: right;\">\n",
       "      <th></th>\n",
       "      <th>Gender</th>\n",
       "      <th>Age</th>\n",
       "      <th>Debt</th>\n",
       "      <th>Married</th>\n",
       "      <th>BankCustomer</th>\n",
       "      <th>EducationLevel</th>\n",
       "      <th>Ethnicity</th>\n",
       "      <th>YearEmployed</th>\n",
       "      <th>PriorDefault</th>\n",
       "      <th>Employed</th>\n",
       "      <th>CreditScore</th>\n",
       "      <th>Citizen</th>\n",
       "      <th>Income</th>\n",
       "      <th>ApprovalStatus</th>\n",
       "    </tr>\n",
       "  </thead>\n",
       "  <tbody>\n",
       "    <tr>\n",
       "      <th>0</th>\n",
       "      <td>a</td>\n",
       "      <td>58.67</td>\n",
       "      <td>4.460</td>\n",
       "      <td>u</td>\n",
       "      <td>g</td>\n",
       "      <td>q</td>\n",
       "      <td>h</td>\n",
       "      <td>3.04</td>\n",
       "      <td>t</td>\n",
       "      <td>t</td>\n",
       "      <td>6</td>\n",
       "      <td>g</td>\n",
       "      <td>560</td>\n",
       "      <td>+</td>\n",
       "    </tr>\n",
       "    <tr>\n",
       "      <th>1</th>\n",
       "      <td>a</td>\n",
       "      <td>24.50</td>\n",
       "      <td>0.500</td>\n",
       "      <td>u</td>\n",
       "      <td>g</td>\n",
       "      <td>q</td>\n",
       "      <td>h</td>\n",
       "      <td>1.50</td>\n",
       "      <td>t</td>\n",
       "      <td>f</td>\n",
       "      <td>0</td>\n",
       "      <td>g</td>\n",
       "      <td>824</td>\n",
       "      <td>+</td>\n",
       "    </tr>\n",
       "    <tr>\n",
       "      <th>2</th>\n",
       "      <td>b</td>\n",
       "      <td>27.83</td>\n",
       "      <td>1.540</td>\n",
       "      <td>u</td>\n",
       "      <td>g</td>\n",
       "      <td>w</td>\n",
       "      <td>v</td>\n",
       "      <td>3.75</td>\n",
       "      <td>t</td>\n",
       "      <td>t</td>\n",
       "      <td>5</td>\n",
       "      <td>g</td>\n",
       "      <td>3</td>\n",
       "      <td>+</td>\n",
       "    </tr>\n",
       "    <tr>\n",
       "      <th>3</th>\n",
       "      <td>b</td>\n",
       "      <td>20.17</td>\n",
       "      <td>5.625</td>\n",
       "      <td>u</td>\n",
       "      <td>g</td>\n",
       "      <td>w</td>\n",
       "      <td>v</td>\n",
       "      <td>1.71</td>\n",
       "      <td>t</td>\n",
       "      <td>f</td>\n",
       "      <td>0</td>\n",
       "      <td>s</td>\n",
       "      <td>0</td>\n",
       "      <td>+</td>\n",
       "    </tr>\n",
       "    <tr>\n",
       "      <th>4</th>\n",
       "      <td>b</td>\n",
       "      <td>32.08</td>\n",
       "      <td>4.000</td>\n",
       "      <td>u</td>\n",
       "      <td>g</td>\n",
       "      <td>m</td>\n",
       "      <td>v</td>\n",
       "      <td>2.50</td>\n",
       "      <td>t</td>\n",
       "      <td>f</td>\n",
       "      <td>0</td>\n",
       "      <td>g</td>\n",
       "      <td>0</td>\n",
       "      <td>+</td>\n",
       "    </tr>\n",
       "  </tbody>\n",
       "</table>\n",
       "</div>"
      ],
      "text/plain": [
       "  Gender    Age   Debt Married BankCustomer EducationLevel Ethnicity  \\\n",
       "0      a  58.67  4.460       u            g              q         h   \n",
       "1      a  24.50  0.500       u            g              q         h   \n",
       "2      b  27.83  1.540       u            g              w         v   \n",
       "3      b  20.17  5.625       u            g              w         v   \n",
       "4      b  32.08  4.000       u            g              m         v   \n",
       "\n",
       "   YearEmployed PriorDefault Employed  CreditScore Citizen  Income  \\\n",
       "0          3.04            t        t            6       g     560   \n",
       "1          1.50            t        f            0       g     824   \n",
       "2          3.75            t        t            5       g       3   \n",
       "3          1.71            t        f            0       s       0   \n",
       "4          2.50            t        f            0       g       0   \n",
       "\n",
       "  ApprovalStatus  \n",
       "0              +  \n",
       "1              +  \n",
       "2              +  \n",
       "3              +  \n",
       "4              +  "
      ]
     },
     "execution_count": 6,
     "metadata": {},
     "output_type": "execute_result"
    }
   ],
   "source": [
    "kk_dataset = kk_dataset.drop(columns=['ZipCode','Driverlicense'])\n",
    "kk_dataset.head()"
   ]
  },
  {
   "cell_type": "markdown",
   "metadata": {},
   "source": [
    "## Mengatasi Missing Values"
   ]
  },
  {
   "cell_type": "markdown",
   "metadata": {},
   "source": [
    "Untuk mengetahui secara pasti dan mempermudah penanganan missing values di dalam Dataset. Cell bernilai '?' harus diubah menjadi NaN."
   ]
  },
  {
   "cell_type": "code",
   "execution_count": 7,
   "metadata": {},
   "outputs": [
    {
     "name": "stdout",
     "output_type": "stream",
     "text": [
      "<class 'pandas.core.frame.DataFrame'>\n",
      "RangeIndex: 689 entries, 0 to 688\n",
      "Data columns (total 14 columns):\n",
      " #   Column          Non-Null Count  Dtype  \n",
      "---  ------          --------------  -----  \n",
      " 0   Gender          677 non-null    object \n",
      " 1   Age             677 non-null    object \n",
      " 2   Debt            689 non-null    float64\n",
      " 3   Married         683 non-null    object \n",
      " 4   BankCustomer    683 non-null    object \n",
      " 5   EducationLevel  680 non-null    object \n",
      " 6   Ethnicity       680 non-null    object \n",
      " 7   YearEmployed    689 non-null    float64\n",
      " 8   PriorDefault    689 non-null    object \n",
      " 9   Employed        689 non-null    object \n",
      " 10  CreditScore     689 non-null    int64  \n",
      " 11  Citizen         689 non-null    object \n",
      " 12  Income          689 non-null    int64  \n",
      " 13  ApprovalStatus  689 non-null    object \n",
      "dtypes: float64(2), int64(2), object(10)\n",
      "memory usage: 75.5+ KB\n"
     ]
    }
   ],
   "source": [
    "import numpy as np\n",
    "\n",
    "kk_dataset =kk_dataset.replace('?',np.nan)\n",
    "kk_dataset.info()"
   ]
  },
  {
   "cell_type": "markdown",
   "metadata": {},
   "source": [
    "Berdasarkan Dataset.info, hanya kolom-kolom bertipe data object yang memiliki missing values. Oleh karena itu cara mengatasinya adalah dengan mengisi missing values tersebut dengan nilai mayoritas dari kolom tersebut."
   ]
  },
  {
   "cell_type": "code",
   "execution_count": 8,
   "metadata": {},
   "outputs": [
    {
     "data": {
      "text/plain": [
       "Gender            0\n",
       "Age               0\n",
       "Debt              0\n",
       "Married           0\n",
       "BankCustomer      0\n",
       "EducationLevel    0\n",
       "Ethnicity         0\n",
       "YearEmployed      0\n",
       "PriorDefault      0\n",
       "Employed          0\n",
       "CreditScore       0\n",
       "Citizen           0\n",
       "Income            0\n",
       "ApprovalStatus    0\n",
       "dtype: int64"
      ]
     },
     "execution_count": 8,
     "metadata": {},
     "output_type": "execute_result"
    }
   ],
   "source": [
    "for col in kk_dataset.columns:\n",
    "  if kk_dataset[col].dtypes == 'object':\n",
    "    kk_dataset = kk_dataset.fillna(kk_dataset[col].value_counts().index[0])\n",
    "\n",
    "kk_dataset.isnull().sum()"
   ]
  },
  {
   "cell_type": "markdown",
   "metadata": {},
   "source": [
    "Missing values sudah selesai diatasi."
   ]
  },
  {
   "cell_type": "markdown",
   "metadata": {},
   "source": [
    "## Pembuatan Model Machine Learning"
   ]
  },
  {
   "cell_type": "markdown",
   "metadata": {},
   "source": [
    "#### 1. Preprosessing Data\n",
    "\n",
    "Pada tahap ini Dataset Kartu kredit yang sudah dibersihkan dari missing values akan dipecah menjadi 2 bagian dengan tujuan untuk pelatihan dan pengetesan model machine learning. Kemudian mengubah seluruh type data menjadi numerik dan menskalakannya agar berada dalam skala yang sama.\n",
    "1. Split Dataset (train-test)\n",
    "2. Mengubah tipe data menjadi angka\n",
    "3. Mengscalakan data"
   ]
  },
  {
   "cell_type": "code",
   "execution_count": 9,
   "metadata": {},
   "outputs": [
    {
     "name": "stdout",
     "output_type": "stream",
     "text": [
      "Setelah Dummy\n",
      "Train shape : (482, 330)\n",
      "Test shape  : (207, 215)\n",
      "\n",
      "\n",
      "Setelah Reindex Dummy\n",
      "Train shape : (482, 330)\n",
      "Test shape  : (207, 330)\n"
     ]
    }
   ],
   "source": [
    "from sklearn.model_selection import train_test_split\n",
    "\n",
    "kk_train, kk_test = train_test_split(kk_dataset,test_size=0.3,random_state=50)\n",
    "\n",
    "kk_train = pd.get_dummies(kk_train)\n",
    "kk_test = pd.get_dummies(kk_test)\n",
    "print('Setelah Dummy')\n",
    "print('Train shape :', kk_train.shape)\n",
    "print('Test shape  :', kk_test.shape)\n",
    "print('\\n')\n",
    "\n",
    "#Reindex kolom dataset test setelah di dummy\n",
    "kk_test = kk_test.reindex(columns=kk_train.columns,fill_value=0)\n",
    "print('Setelah Reindex Dummy')\n",
    "print('Train shape :', kk_train.shape)\n",
    "print('Test shape  :', kk_test.shape)"
   ]
  },
  {
   "cell_type": "markdown",
   "metadata": {},
   "source": [
    "Selanjutnya kita pisahkan antara Feature (X) dan Target (y) sebelum menskalakan Feature."
   ]
  },
  {
   "cell_type": "code",
   "execution_count": 10,
   "metadata": {},
   "outputs": [],
   "source": [
    "X_train, y_train = kk_train.iloc[:,:-1].values, kk_train.iloc[:,[-1]].values\n",
    "X_test, y_test = kk_test.iloc[:,:-1].values, kk_test.iloc[:,[-1]].values\n",
    "\n",
    "from sklearn.preprocessing import MinMaxScaler\n",
    "scaler = MinMaxScaler(feature_range=(0,1))\n",
    "scaledX_train = scaler.fit_transform(X_train)\n",
    "scaledX_test = scaler.transform(X_test)"
   ]
  },
  {
   "cell_type": "markdown",
   "metadata": {},
   "source": [
    "#### 2. Pelatihan Model\n",
    "\n",
    "Salah satu faktor penting dan keuntungan dari penggunaan kartu kredit adalah kepraktisan dan kecepatan transaksi. Oleh karena itu sistem validasi otomatis harus memiliki performa yang tinggi namun tetap cepat. Sehingga model machine learning yang digunakanpun harus yang ringan namun tetap efektif.\n",
    "\n",
    "Dari banyaknya jenis model machine learning, model yang paling ringan untuk tipe klasifikasi adalah \"Logistic regression\" dan untuk menemukan performa terbaik dari tipe model logistic regression pada Dataset dilakukan pencarian paramater yang paling tepat."
   ]
  },
  {
   "cell_type": "code",
   "execution_count": 11,
   "metadata": {},
   "outputs": [
    {
     "name": "stdout",
     "output_type": "stream",
     "text": [
      "Akurasi terbaik   : 1.000000\n",
      "Parameter terbaik : {'max_iter': 100, 'tol': 0.01}\n"
     ]
    }
   ],
   "source": [
    "from sklearn.linear_model import LogisticRegression\n",
    "from sklearn.model_selection import GridSearchCV\n",
    "\n",
    "tol = [0.01,0.001,0.0001]\n",
    "max_iter = [100,150,200]\n",
    "parameter = dict(tol=tol,max_iter=max_iter)\n",
    "\n",
    "logreg = LogisticRegression()\n",
    "grid_model = GridSearchCV(estimator=logreg,param_grid=parameter,cv=13)\n",
    "\n",
    "grid_model_hasil = grid_model.fit(scaledX_train,y_train.ravel())\n",
    "print(\"Akurasi terbaik   : %f\" % (grid_model_hasil.best_score_))\n",
    "print(\"Parameter terbaik :\", grid_model_hasil.best_params_)"
   ]
  },
  {
   "cell_type": "code",
   "execution_count": 12,
   "metadata": {},
   "outputs": [
    {
     "name": "stdout",
     "output_type": "stream",
     "text": [
      "Akurasi Model pada dataset test 1.0\n"
     ]
    }
   ],
   "source": [
    "model_terbaik = grid_model_hasil.best_estimator_\n",
    "\n",
    "score_test = model_terbaik.score(scaledX_test,y_test)\n",
    "print(\"Akurasi Model pada dataset test\", score_test)"
   ]
  },
  {
   "cell_type": "code",
   "execution_count": 13,
   "metadata": {},
   "outputs": [
    {
     "data": {
      "text/plain": [
       "array([[ 97,   0],\n",
       "       [  0, 110]])"
      ]
     },
     "execution_count": 13,
     "metadata": {},
     "output_type": "execute_result"
    }
   ],
   "source": [
    "from sklearn.metrics import confusion_matrix\n",
    "y_pred = model_terbaik.predict(scaledX_test)\n",
    "\n",
    "confusion_matrix(y_test,y_pred)"
   ]
  },
  {
   "cell_type": "markdown",
   "metadata": {},
   "source": [
    "Berdasarkan akurasi dan confusion matrix, diperoleh informasi bahwa model machine learning yang dibuat berhasil mengklasifikasikan secara akurat dataset test, dengan hasil :\n",
    "### 97 Transaksi Fraud\n",
    "### 110 Transaksi Valid"
   ]
  }
 ],
 "metadata": {
  "kernelspec": {
   "display_name": "Python 3 (ipykernel)",
   "language": "python",
   "name": "python3"
  },
  "language_info": {
   "codemirror_mode": {
    "name": "ipython",
    "version": 3
   },
   "file_extension": ".py",
   "mimetype": "text/x-python",
   "name": "python",
   "nbconvert_exporter": "python",
   "pygments_lexer": "ipython3",
   "version": "3.10.3"
  },
  "vscode": {
   "interpreter": {
    "hash": "6e99e82d4437add478f86ad82dc70d40414c9fe5a8ce740e5487bc24987be5aa"
   }
  }
 },
 "nbformat": 4,
 "nbformat_minor": 2
}
