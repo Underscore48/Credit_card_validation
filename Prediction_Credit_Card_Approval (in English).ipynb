{
 "cells": [
  {
   "cell_type": "markdown",
   "metadata": {},
   "source": [
    "# BANKING CREDIT CARD TRANSACTION\n",
    "### Prediction of Valid or Fraud"
   ]
  },
  {
   "cell_type": "markdown",
   "metadata": {},
   "source": [
    "## Introduction"
   ]
  },
  {
   "cell_type": "markdown",
   "metadata": {},
   "source": [
    "There are lots of credit card transaction processes submitted by banking customers every day. In every second it is possible there are thousands or even millions of transactions that enter the banking system.\n",
    "\n",
    "However, are all the proposed transactions valid without certain parties who may wish to commit fraud against the Bank?   \n",
    "In fact, of the entire transaction process entered into the system, only 99% of transactions are actually submitted by customers, the other 1% is fraud submitted by irresponsible parties. Even though the percentage of fraud is very small, the number of transaction processes and a large nominal will still cause losses for the Bank.\n",
    "\n",
    "If the fraud is allowed to continue, it will make more and more other less responsible parties participate in doing this bad thing. If this happens, this 1% figure will continue to grow exponentially over time. So that it will cause big losses for the Bank, both material and non-material losses such as customer trust which ultimately makes customers turn into competitors' bank customers. "
   ]
  },
  {
   "cell_type": "markdown",
   "metadata": {},
   "source": [
    "With a very large number of transactions and must be processed by the system very quickly and accurately (benefit of using credit cards), it is impossible for humans to be able to manually validate every transaction submitted by customers is valid or fraudulent.\n",
    "\n",
    "Therefore, it is necessary to implement an automatic validation system to process every transaction that enters the banking system with a maximum score accuracy of 100% by using <em>\"Machine Learning\"</em>.\n",
    "\n",
    "Why must the system score accuracy be 100%?   \n",
    "Because, if the score accuracy of the automatic validation system is 99%, it can be stated that the system has failed in practice, because there is no difference between before and after implementing the Machine Learning validation system. even in certain cases (<90% accuracy) can be detrimental to customers due to evaluation errors."
   ]
  },
  {
   "cell_type": "markdown",
   "metadata": {},
   "source": [
    "## Import Dataset\n",
    "\n",
    "The dataset used in this portfolio is the <a href=\"http://archive.ics.uci.edu/ml/datasets/credit approval\">Credit Card Approval dataset</a> dataset from The UCI Machine Learning Repository."
   ]
  },
  {
   "cell_type": "code",
   "execution_count": 1,
   "metadata": {},
   "outputs": [
    {
     "data": {
      "text/html": [
       "<div>\n",
       "<style scoped>\n",
       "    .dataframe tbody tr th:only-of-type {\n",
       "        vertical-align: middle;\n",
       "    }\n",
       "\n",
       "    .dataframe tbody tr th {\n",
       "        vertical-align: top;\n",
       "    }\n",
       "\n",
       "    .dataframe thead th {\n",
       "        text-align: right;\n",
       "    }\n",
       "</style>\n",
       "<table border=\"1\" class=\"dataframe\">\n",
       "  <thead>\n",
       "    <tr style=\"text-align: right;\">\n",
       "      <th></th>\n",
       "      <th>b</th>\n",
       "      <th>30.83</th>\n",
       "      <th>0</th>\n",
       "      <th>u</th>\n",
       "      <th>g</th>\n",
       "      <th>w</th>\n",
       "      <th>v</th>\n",
       "      <th>1.25</th>\n",
       "      <th>t</th>\n",
       "      <th>t.1</th>\n",
       "      <th>01</th>\n",
       "      <th>f</th>\n",
       "      <th>g.1</th>\n",
       "      <th>00202</th>\n",
       "      <th>0.1</th>\n",
       "      <th>+</th>\n",
       "    </tr>\n",
       "  </thead>\n",
       "  <tbody>\n",
       "    <tr>\n",
       "      <th>0</th>\n",
       "      <td>a</td>\n",
       "      <td>58.67</td>\n",
       "      <td>4.460</td>\n",
       "      <td>u</td>\n",
       "      <td>g</td>\n",
       "      <td>q</td>\n",
       "      <td>h</td>\n",
       "      <td>3.04</td>\n",
       "      <td>t</td>\n",
       "      <td>t</td>\n",
       "      <td>6</td>\n",
       "      <td>f</td>\n",
       "      <td>g</td>\n",
       "      <td>00043</td>\n",
       "      <td>560</td>\n",
       "      <td>+</td>\n",
       "    </tr>\n",
       "    <tr>\n",
       "      <th>1</th>\n",
       "      <td>a</td>\n",
       "      <td>24.50</td>\n",
       "      <td>0.500</td>\n",
       "      <td>u</td>\n",
       "      <td>g</td>\n",
       "      <td>q</td>\n",
       "      <td>h</td>\n",
       "      <td>1.50</td>\n",
       "      <td>t</td>\n",
       "      <td>f</td>\n",
       "      <td>0</td>\n",
       "      <td>f</td>\n",
       "      <td>g</td>\n",
       "      <td>00280</td>\n",
       "      <td>824</td>\n",
       "      <td>+</td>\n",
       "    </tr>\n",
       "    <tr>\n",
       "      <th>2</th>\n",
       "      <td>b</td>\n",
       "      <td>27.83</td>\n",
       "      <td>1.540</td>\n",
       "      <td>u</td>\n",
       "      <td>g</td>\n",
       "      <td>w</td>\n",
       "      <td>v</td>\n",
       "      <td>3.75</td>\n",
       "      <td>t</td>\n",
       "      <td>t</td>\n",
       "      <td>5</td>\n",
       "      <td>t</td>\n",
       "      <td>g</td>\n",
       "      <td>00100</td>\n",
       "      <td>3</td>\n",
       "      <td>+</td>\n",
       "    </tr>\n",
       "    <tr>\n",
       "      <th>3</th>\n",
       "      <td>b</td>\n",
       "      <td>20.17</td>\n",
       "      <td>5.625</td>\n",
       "      <td>u</td>\n",
       "      <td>g</td>\n",
       "      <td>w</td>\n",
       "      <td>v</td>\n",
       "      <td>1.71</td>\n",
       "      <td>t</td>\n",
       "      <td>f</td>\n",
       "      <td>0</td>\n",
       "      <td>f</td>\n",
       "      <td>s</td>\n",
       "      <td>00120</td>\n",
       "      <td>0</td>\n",
       "      <td>+</td>\n",
       "    </tr>\n",
       "    <tr>\n",
       "      <th>4</th>\n",
       "      <td>b</td>\n",
       "      <td>32.08</td>\n",
       "      <td>4.000</td>\n",
       "      <td>u</td>\n",
       "      <td>g</td>\n",
       "      <td>m</td>\n",
       "      <td>v</td>\n",
       "      <td>2.50</td>\n",
       "      <td>t</td>\n",
       "      <td>f</td>\n",
       "      <td>0</td>\n",
       "      <td>t</td>\n",
       "      <td>g</td>\n",
       "      <td>00360</td>\n",
       "      <td>0</td>\n",
       "      <td>+</td>\n",
       "    </tr>\n",
       "  </tbody>\n",
       "</table>\n",
       "</div>"
      ],
      "text/plain": [
       "   b  30.83      0  u  g  w  v  1.25  t t.1  01  f g.1  00202  0.1  +\n",
       "0  a  58.67  4.460  u  g  q  h  3.04  t   t   6  f   g  00043  560  +\n",
       "1  a  24.50  0.500  u  g  q  h  1.50  t   f   0  f   g  00280  824  +\n",
       "2  b  27.83  1.540  u  g  w  v  3.75  t   t   5  t   g  00100    3  +\n",
       "3  b  20.17  5.625  u  g  w  v  1.71  t   f   0  f   s  00120    0  +\n",
       "4  b  32.08  4.000  u  g  m  v  2.50  t   f   0  t   g  00360    0  +"
      ]
     },
     "execution_count": 1,
     "metadata": {},
     "output_type": "execute_result"
    }
   ],
   "source": [
    "import pandas as pd\n",
    "\n",
    "cc_dataset = pd.read_csv('datasets/cc_approvals.data')\n",
    "cc_dataset.head()"
   ]
  },
  {
   "cell_type": "markdown",
   "metadata": {},
   "source": [
    "The table above is a table of credit card transaction history that has been disguised to maintain the privacy of customer data, therefore the names of each column in the table are disguised. However, in the blog <a href=\"http://rstudio-pubs-static.s3.amazonaws.com/73039_9946de135c0a49daa7a0a9eda4a67a72.html\">\"Analysis of Credit Approval Data\"</a> there is a clue that generally the column names in The banking datasets in sequence are:\n",
    "- Gender\n",
    "- Age\n",
    "- Debt\n",
    "- Married\n",
    "- BankCustomer\n",
    "- EducationLevel\n",
    "- Ethnicity\n",
    "- YearEmployed\n",
    "- PriorDefault\n",
    "- Employed\n",
    "- CreditScore\n",
    "- DriverLicense\n",
    "- Citizen\n",
    "- ZipCode\n",
    "- Income\n",
    "- ApprovalStatus\n",
    "\n",
    "For convenience, the name of the column will be changed"
   ]
  },
  {
   "cell_type": "code",
   "execution_count": 2,
   "metadata": {},
   "outputs": [
    {
     "data": {
      "text/html": [
       "<div>\n",
       "<style scoped>\n",
       "    .dataframe tbody tr th:only-of-type {\n",
       "        vertical-align: middle;\n",
       "    }\n",
       "\n",
       "    .dataframe tbody tr th {\n",
       "        vertical-align: top;\n",
       "    }\n",
       "\n",
       "    .dataframe thead th {\n",
       "        text-align: right;\n",
       "    }\n",
       "</style>\n",
       "<table border=\"1\" class=\"dataframe\">\n",
       "  <thead>\n",
       "    <tr style=\"text-align: right;\">\n",
       "      <th></th>\n",
       "      <th>Gender</th>\n",
       "      <th>Age</th>\n",
       "      <th>Debt</th>\n",
       "      <th>Married</th>\n",
       "      <th>BankCustomer</th>\n",
       "      <th>EducationLevel</th>\n",
       "      <th>Ethnicity</th>\n",
       "      <th>YearEmployed</th>\n",
       "      <th>PriorDefault</th>\n",
       "      <th>Employed</th>\n",
       "      <th>CreditScore</th>\n",
       "      <th>Driverlicense</th>\n",
       "      <th>Citizen</th>\n",
       "      <th>ZipCode</th>\n",
       "      <th>Income</th>\n",
       "      <th>ApprovalStatus</th>\n",
       "    </tr>\n",
       "  </thead>\n",
       "  <tbody>\n",
       "    <tr>\n",
       "      <th>0</th>\n",
       "      <td>a</td>\n",
       "      <td>58.67</td>\n",
       "      <td>4.460</td>\n",
       "      <td>u</td>\n",
       "      <td>g</td>\n",
       "      <td>q</td>\n",
       "      <td>h</td>\n",
       "      <td>3.04</td>\n",
       "      <td>t</td>\n",
       "      <td>t</td>\n",
       "      <td>6</td>\n",
       "      <td>f</td>\n",
       "      <td>g</td>\n",
       "      <td>00043</td>\n",
       "      <td>560</td>\n",
       "      <td>+</td>\n",
       "    </tr>\n",
       "    <tr>\n",
       "      <th>1</th>\n",
       "      <td>a</td>\n",
       "      <td>24.50</td>\n",
       "      <td>0.500</td>\n",
       "      <td>u</td>\n",
       "      <td>g</td>\n",
       "      <td>q</td>\n",
       "      <td>h</td>\n",
       "      <td>1.50</td>\n",
       "      <td>t</td>\n",
       "      <td>f</td>\n",
       "      <td>0</td>\n",
       "      <td>f</td>\n",
       "      <td>g</td>\n",
       "      <td>00280</td>\n",
       "      <td>824</td>\n",
       "      <td>+</td>\n",
       "    </tr>\n",
       "    <tr>\n",
       "      <th>2</th>\n",
       "      <td>b</td>\n",
       "      <td>27.83</td>\n",
       "      <td>1.540</td>\n",
       "      <td>u</td>\n",
       "      <td>g</td>\n",
       "      <td>w</td>\n",
       "      <td>v</td>\n",
       "      <td>3.75</td>\n",
       "      <td>t</td>\n",
       "      <td>t</td>\n",
       "      <td>5</td>\n",
       "      <td>t</td>\n",
       "      <td>g</td>\n",
       "      <td>00100</td>\n",
       "      <td>3</td>\n",
       "      <td>+</td>\n",
       "    </tr>\n",
       "    <tr>\n",
       "      <th>3</th>\n",
       "      <td>b</td>\n",
       "      <td>20.17</td>\n",
       "      <td>5.625</td>\n",
       "      <td>u</td>\n",
       "      <td>g</td>\n",
       "      <td>w</td>\n",
       "      <td>v</td>\n",
       "      <td>1.71</td>\n",
       "      <td>t</td>\n",
       "      <td>f</td>\n",
       "      <td>0</td>\n",
       "      <td>f</td>\n",
       "      <td>s</td>\n",
       "      <td>00120</td>\n",
       "      <td>0</td>\n",
       "      <td>+</td>\n",
       "    </tr>\n",
       "    <tr>\n",
       "      <th>4</th>\n",
       "      <td>b</td>\n",
       "      <td>32.08</td>\n",
       "      <td>4.000</td>\n",
       "      <td>u</td>\n",
       "      <td>g</td>\n",
       "      <td>m</td>\n",
       "      <td>v</td>\n",
       "      <td>2.50</td>\n",
       "      <td>t</td>\n",
       "      <td>f</td>\n",
       "      <td>0</td>\n",
       "      <td>t</td>\n",
       "      <td>g</td>\n",
       "      <td>00360</td>\n",
       "      <td>0</td>\n",
       "      <td>+</td>\n",
       "    </tr>\n",
       "  </tbody>\n",
       "</table>\n",
       "</div>"
      ],
      "text/plain": [
       "  Gender    Age   Debt Married BankCustomer EducationLevel Ethnicity  \\\n",
       "0      a  58.67  4.460       u            g              q         h   \n",
       "1      a  24.50  0.500       u            g              q         h   \n",
       "2      b  27.83  1.540       u            g              w         v   \n",
       "3      b  20.17  5.625       u            g              w         v   \n",
       "4      b  32.08  4.000       u            g              m         v   \n",
       "\n",
       "   YearEmployed PriorDefault Employed  CreditScore Driverlicense Citizen  \\\n",
       "0          3.04            t        t            6             f       g   \n",
       "1          1.50            t        f            0             f       g   \n",
       "2          3.75            t        t            5             t       g   \n",
       "3          1.71            t        f            0             f       s   \n",
       "4          2.50            t        f            0             t       g   \n",
       "\n",
       "  ZipCode  Income ApprovalStatus  \n",
       "0   00043     560              +  \n",
       "1   00280     824              +  \n",
       "2   00100       3              +  \n",
       "3   00120       0              +  \n",
       "4   00360       0              +  "
      ]
     },
     "execution_count": 2,
     "metadata": {},
     "output_type": "execute_result"
    }
   ],
   "source": [
    "cc_dataset.columns = ['Gender','Age','Debt','Married','BankCustomer',\n",
    "                      'EducationLevel','Ethnicity','YearEmployed',\n",
    "                      'PriorDefault','Employed','CreditScore',\n",
    "                      'Driverlicense','Citizen','ZipCode','Income',\n",
    "                      'ApprovalStatus']\n",
    "\n",
    "cc_dataset.head()"
   ]
  },
  {
   "cell_type": "markdown",
   "metadata": {},
   "source": [
    "Now the Dataset looks better.\n",
    "However, before being able to create a <em>Machine learning</em> model, the issues or problems that the Dataset has must be identified first."
   ]
  },
  {
   "cell_type": "code",
   "execution_count": 3,
   "metadata": {},
   "outputs": [
    {
     "name": "stdout",
     "output_type": "stream",
     "text": [
      "<class 'pandas.core.frame.DataFrame'>\n",
      "RangeIndex: 689 entries, 0 to 688\n",
      "Data columns (total 16 columns):\n",
      " #   Column          Non-Null Count  Dtype  \n",
      "---  ------          --------------  -----  \n",
      " 0   Gender          689 non-null    object \n",
      " 1   Age             689 non-null    object \n",
      " 2   Debt            689 non-null    float64\n",
      " 3   Married         689 non-null    object \n",
      " 4   BankCustomer    689 non-null    object \n",
      " 5   EducationLevel  689 non-null    object \n",
      " 6   Ethnicity       689 non-null    object \n",
      " 7   YearEmployed    689 non-null    float64\n",
      " 8   PriorDefault    689 non-null    object \n",
      " 9   Employed        689 non-null    object \n",
      " 10  CreditScore     689 non-null    int64  \n",
      " 11  Driverlicense   689 non-null    object \n",
      " 12  Citizen         689 non-null    object \n",
      " 13  ZipCode         689 non-null    object \n",
      " 14  Income          689 non-null    int64  \n",
      " 15  ApprovalStatus  689 non-null    object \n",
      "dtypes: float64(2), int64(2), object(12)\n",
      "memory usage: 86.2+ KB\n",
      "None\n"
     ]
    }
   ],
   "source": [
    "print(cc_dataset.info())"
   ]
  },
  {
   "cell_type": "markdown",
   "metadata": {},
   "source": [
    "No Null detected.\n",
    "\n",
    "Advanced checks using commonly found or used strings as missing values"
   ]
  },
  {
   "cell_type": "code",
   "execution_count": 4,
   "metadata": {},
   "outputs": [
    {
     "name": "stdout",
     "output_type": "stream",
     "text": [
      "    Gender    Age   Debt Married BankCustomer EducationLevel Ethnicity  \\\n",
      "70       b  34.83  4.000       u            g              d        bb   \n",
      "82       a      ?  3.500       u            g              d         v   \n",
      "85       b      ?  0.375       u            g              d         v   \n",
      "91       b      ?  5.000       y            p             aa         v   \n",
      "96       b      ?  0.500       u            g              c        bb   \n",
      "..     ...    ...    ...     ...          ...            ...       ...   \n",
      "621      a  25.58  0.000       ?            ?              ?         ?   \n",
      "621      a  25.58  0.000       ?            ?              ?         ?   \n",
      "625      b  22.00  7.835       y            p              i        bb   \n",
      "640      ?  33.17  2.250       y            p             cc         v   \n",
      "672      ?  29.50  2.000       y            p              e         h   \n",
      "\n",
      "     YearEmployed PriorDefault Employed  CreditScore Driverlicense Citizen  \\\n",
      "70         12.500            t        f            0             t       g   \n",
      "82          3.000            t        f            0             t       g   \n",
      "85          0.875            t        f            0             t       s   \n",
      "91          8.500            t        f            0             f       g   \n",
      "96          0.835            t        f            0             t       s   \n",
      "..            ...          ...      ...          ...           ...     ...   \n",
      "621         0.000            f        f            0             f       p   \n",
      "621         0.000            f        f            0             f       p   \n",
      "625         0.165            f        f            0             t       g   \n",
      "640         3.500            f        f            0             t       g   \n",
      "672         2.000            f        f            0             f       g   \n",
      "\n",
      "    ZipCode  Income ApprovalStatus  \n",
      "70        ?       0              -  \n",
      "82    00300       0              -  \n",
      "85    00928       0              -  \n",
      "91    00000       0              -  \n",
      "96    00320       0              -  \n",
      "..      ...     ...            ...  \n",
      "621       ?       0              +  \n",
      "621       ?       0              +  \n",
      "625       ?       0              -  \n",
      "640   00200     141              -  \n",
      "672   00256      17              -  \n",
      "\n",
      "[67 rows x 16 columns]\n",
      "Empty DataFrame\n",
      "Columns: [Gender, Age, Debt, Married, BankCustomer, EducationLevel, Ethnicity, YearEmployed, PriorDefault, Employed, CreditScore, Driverlicense, Citizen, ZipCode, Income, ApprovalStatus]\n",
      "Index: []\n",
      "Empty DataFrame\n",
      "Columns: [Gender, Age, Debt, Married, BankCustomer, EducationLevel, Ethnicity, YearEmployed, PriorDefault, Employed, CreditScore, Driverlicense, Citizen, ZipCode, Income, ApprovalStatus]\n",
      "Index: []\n"
     ]
    }
   ],
   "source": [
    "print(cc_dataset[cc_dataset.values=='?'])\n",
    "print(cc_dataset[cc_dataset.values==' '])\n",
    "print(cc_dataset[cc_dataset.values==''])"
   ]
  },
  {
   "cell_type": "markdown",
   "metadata": {},
   "source": [
    "There are cells missing values ​​with the string value '?', namely in the column:"
   ]
  },
  {
   "cell_type": "code",
   "execution_count": 5,
   "metadata": {},
   "outputs": [
    {
     "name": "stdout",
     "output_type": "stream",
     "text": [
      "Index(['Gender', 'Age', 'Married', 'BankCustomer', 'EducationLevel',\n",
      "       'Ethnicity', 'ZipCode'],\n",
      "      dtype='object')\n",
      "Gender            12\n",
      "Age               12\n",
      "Debt               0\n",
      "Married            6\n",
      "BankCustomer       6\n",
      "EducationLevel     9\n",
      "Ethnicity          9\n",
      "YearEmployed       0\n",
      "PriorDefault       0\n",
      "Employed           0\n",
      "CreditScore        0\n",
      "Driverlicense      0\n",
      "Citizen            0\n",
      "ZipCode           13\n",
      "Income             0\n",
      "ApprovalStatus     0\n",
      "dtype: int64\n",
      "total missing values = 67\n"
     ]
    }
   ],
   "source": [
    "print(cc_dataset.columns[cc_dataset.isin(['?']).any()])\n",
    "print(cc_dataset.isin(['?']).sum())\n",
    "n_missing = cc_dataset.isin(['?']).sum().sum()\n",
    "print('total missing values =',n_missing)"
   ]
  },
  {
   "cell_type": "markdown",
   "metadata": {},
   "source": [
    "From the investigation, there are 67 rows in 7 data columns that have the cell value '?'. This problem is called missing values.\n",
    "\n",
    "Machine learning models will not be able to be created if there are still missing values. Therefore this problem must be addressed first. However, before that, the columns that are considered unimportant or not related to the validity of a credit card transaction will be removed first."
   ]
  },
  {
   "cell_type": "code",
   "execution_count": 6,
   "metadata": {},
   "outputs": [
    {
     "data": {
      "text/html": [
       "<div>\n",
       "<style scoped>\n",
       "    .dataframe tbody tr th:only-of-type {\n",
       "        vertical-align: middle;\n",
       "    }\n",
       "\n",
       "    .dataframe tbody tr th {\n",
       "        vertical-align: top;\n",
       "    }\n",
       "\n",
       "    .dataframe thead th {\n",
       "        text-align: right;\n",
       "    }\n",
       "</style>\n",
       "<table border=\"1\" class=\"dataframe\">\n",
       "  <thead>\n",
       "    <tr style=\"text-align: right;\">\n",
       "      <th></th>\n",
       "      <th>Gender</th>\n",
       "      <th>Age</th>\n",
       "      <th>Debt</th>\n",
       "      <th>Married</th>\n",
       "      <th>BankCustomer</th>\n",
       "      <th>EducationLevel</th>\n",
       "      <th>Ethnicity</th>\n",
       "      <th>YearEmployed</th>\n",
       "      <th>PriorDefault</th>\n",
       "      <th>Employed</th>\n",
       "      <th>CreditScore</th>\n",
       "      <th>Citizen</th>\n",
       "      <th>Income</th>\n",
       "      <th>ApprovalStatus</th>\n",
       "    </tr>\n",
       "  </thead>\n",
       "  <tbody>\n",
       "    <tr>\n",
       "      <th>0</th>\n",
       "      <td>a</td>\n",
       "      <td>58.67</td>\n",
       "      <td>4.460</td>\n",
       "      <td>u</td>\n",
       "      <td>g</td>\n",
       "      <td>q</td>\n",
       "      <td>h</td>\n",
       "      <td>3.04</td>\n",
       "      <td>t</td>\n",
       "      <td>t</td>\n",
       "      <td>6</td>\n",
       "      <td>g</td>\n",
       "      <td>560</td>\n",
       "      <td>+</td>\n",
       "    </tr>\n",
       "    <tr>\n",
       "      <th>1</th>\n",
       "      <td>a</td>\n",
       "      <td>24.50</td>\n",
       "      <td>0.500</td>\n",
       "      <td>u</td>\n",
       "      <td>g</td>\n",
       "      <td>q</td>\n",
       "      <td>h</td>\n",
       "      <td>1.50</td>\n",
       "      <td>t</td>\n",
       "      <td>f</td>\n",
       "      <td>0</td>\n",
       "      <td>g</td>\n",
       "      <td>824</td>\n",
       "      <td>+</td>\n",
       "    </tr>\n",
       "    <tr>\n",
       "      <th>2</th>\n",
       "      <td>b</td>\n",
       "      <td>27.83</td>\n",
       "      <td>1.540</td>\n",
       "      <td>u</td>\n",
       "      <td>g</td>\n",
       "      <td>w</td>\n",
       "      <td>v</td>\n",
       "      <td>3.75</td>\n",
       "      <td>t</td>\n",
       "      <td>t</td>\n",
       "      <td>5</td>\n",
       "      <td>g</td>\n",
       "      <td>3</td>\n",
       "      <td>+</td>\n",
       "    </tr>\n",
       "    <tr>\n",
       "      <th>3</th>\n",
       "      <td>b</td>\n",
       "      <td>20.17</td>\n",
       "      <td>5.625</td>\n",
       "      <td>u</td>\n",
       "      <td>g</td>\n",
       "      <td>w</td>\n",
       "      <td>v</td>\n",
       "      <td>1.71</td>\n",
       "      <td>t</td>\n",
       "      <td>f</td>\n",
       "      <td>0</td>\n",
       "      <td>s</td>\n",
       "      <td>0</td>\n",
       "      <td>+</td>\n",
       "    </tr>\n",
       "    <tr>\n",
       "      <th>4</th>\n",
       "      <td>b</td>\n",
       "      <td>32.08</td>\n",
       "      <td>4.000</td>\n",
       "      <td>u</td>\n",
       "      <td>g</td>\n",
       "      <td>m</td>\n",
       "      <td>v</td>\n",
       "      <td>2.50</td>\n",
       "      <td>t</td>\n",
       "      <td>f</td>\n",
       "      <td>0</td>\n",
       "      <td>g</td>\n",
       "      <td>0</td>\n",
       "      <td>+</td>\n",
       "    </tr>\n",
       "  </tbody>\n",
       "</table>\n",
       "</div>"
      ],
      "text/plain": [
       "  Gender    Age   Debt Married BankCustomer EducationLevel Ethnicity  \\\n",
       "0      a  58.67  4.460       u            g              q         h   \n",
       "1      a  24.50  0.500       u            g              q         h   \n",
       "2      b  27.83  1.540       u            g              w         v   \n",
       "3      b  20.17  5.625       u            g              w         v   \n",
       "4      b  32.08  4.000       u            g              m         v   \n",
       "\n",
       "   YearEmployed PriorDefault Employed  CreditScore Citizen  Income  \\\n",
       "0          3.04            t        t            6       g     560   \n",
       "1          1.50            t        f            0       g     824   \n",
       "2          3.75            t        t            5       g       3   \n",
       "3          1.71            t        f            0       s       0   \n",
       "4          2.50            t        f            0       g       0   \n",
       "\n",
       "  ApprovalStatus  \n",
       "0              +  \n",
       "1              +  \n",
       "2              +  \n",
       "3              +  \n",
       "4              +  "
      ]
     },
     "execution_count": 6,
     "metadata": {},
     "output_type": "execute_result"
    }
   ],
   "source": [
    "cc_dataset = cc_dataset.drop(columns=['ZipCode','Driverlicense'])\n",
    "cc_dataset.head()"
   ]
  },
  {
   "cell_type": "markdown",
   "metadata": {},
   "source": [
    "## Dealing with Missing Values"
   ]
  },
  {
   "cell_type": "code",
   "execution_count": 7,
   "metadata": {},
   "outputs": [
    {
     "name": "stdout",
     "output_type": "stream",
     "text": [
      "<class 'pandas.core.frame.DataFrame'>\n",
      "RangeIndex: 689 entries, 0 to 688\n",
      "Data columns (total 14 columns):\n",
      " #   Column          Non-Null Count  Dtype  \n",
      "---  ------          --------------  -----  \n",
      " 0   Gender          677 non-null    object \n",
      " 1   Age             677 non-null    object \n",
      " 2   Debt            689 non-null    float64\n",
      " 3   Married         683 non-null    object \n",
      " 4   BankCustomer    683 non-null    object \n",
      " 5   EducationLevel  680 non-null    object \n",
      " 6   Ethnicity       680 non-null    object \n",
      " 7   YearEmployed    689 non-null    float64\n",
      " 8   PriorDefault    689 non-null    object \n",
      " 9   Employed        689 non-null    object \n",
      " 10  CreditScore     689 non-null    int64  \n",
      " 11  Citizen         689 non-null    object \n",
      " 12  Income          689 non-null    int64  \n",
      " 13  ApprovalStatus  689 non-null    object \n",
      "dtypes: float64(2), int64(2), object(10)\n",
      "memory usage: 75.5+ KB\n"
     ]
    }
   ],
   "source": [
    "import numpy as np\n",
    "\n",
    "cc_dataset =cc_dataset.replace('?',np.nan)\n",
    "cc_dataset.info()"
   ]
  },
  {
   "cell_type": "markdown",
   "metadata": {},
   "source": [
    "Based on Dataset.info, only columns of object data type have missing values. Therefore, the way to overcome this is to fill in the missing values ​​with the majority value of the column."
   ]
  },
  {
   "cell_type": "code",
   "execution_count": 8,
   "metadata": {},
   "outputs": [
    {
     "data": {
      "text/plain": [
       "Gender            0\n",
       "Age               0\n",
       "Debt              0\n",
       "Married           0\n",
       "BankCustomer      0\n",
       "EducationLevel    0\n",
       "Ethnicity         0\n",
       "YearEmployed      0\n",
       "PriorDefault      0\n",
       "Employed          0\n",
       "CreditScore       0\n",
       "Citizen           0\n",
       "Income            0\n",
       "ApprovalStatus    0\n",
       "dtype: int64"
      ]
     },
     "execution_count": 8,
     "metadata": {},
     "output_type": "execute_result"
    }
   ],
   "source": [
    "for col in cc_dataset.columns:\n",
    "  if cc_dataset[col].dtypes == 'object':\n",
    "    cc_dataset = cc_dataset.fillna(cc_dataset[col].value_counts().index[0])\n",
    "\n",
    "cc_dataset.isnull().sum()"
   ]
  },
  {
   "cell_type": "markdown",
   "metadata": {},
   "source": [
    "##### Missing values ​​have been resolved."
   ]
  },
  {
   "cell_type": "markdown",
   "metadata": {},
   "source": [
    "## Making Machine Learning Models"
   ]
  },
  {
   "cell_type": "markdown",
   "metadata": {},
   "source": [
    "#### 1. Data Preprocessing\n",
    "\n",
    "At this stage the credit card dataset that has been cleaned of missing values ​​will be divided into 2 parts for the purpose of training and testing machine learning models. Then convert all data types to numeric and scale them to be on the same scale.\n",
    "1. Split Dataset (train-test)\n",
    "2. Change the data type to numbers\n",
    "3. Scaling data"
   ]
  },
  {
   "cell_type": "code",
   "execution_count": 9,
   "metadata": {},
   "outputs": [
    {
     "name": "stdout",
     "output_type": "stream",
     "text": [
      "After Dummy\n",
      "Train shape : (482, 330)\n",
      "Test shape  : (207, 215)\n",
      "\n",
      "\n",
      "After Reindex Dummy\n",
      "Train shape : (482, 330)\n",
      "Test shape  : (207, 330)\n"
     ]
    }
   ],
   "source": [
    "from sklearn.model_selection import train_test_split\n",
    "\n",
    "cc_train, cc_test = train_test_split(cc_dataset,test_size=0.3,random_state=50)\n",
    "\n",
    "cc_train = pd.get_dummies(cc_train)\n",
    "cc_test = pd.get_dummies(cc_test)\n",
    "print('After Dummy')\n",
    "print('Train shape :', cc_train.shape)\n",
    "print('Test shape  :', cc_test.shape)\n",
    "print('\\n')\n",
    "\n",
    "#Reindex kolom dataset test setelah di dummy\n",
    "cc_test = cc_test.reindex(columns=cc_train.columns,fill_value=0)\n",
    "print('After Reindex Dummy')\n",
    "print('Train shape :', cc_train.shape)\n",
    "print('Test shape  :', cc_test.shape)"
   ]
  },
  {
   "cell_type": "markdown",
   "metadata": {},
   "source": [
    "Next we separate the Feature (X) and Target (y) before scaling the Feature.\n",
    "\n",
    "Scaling values with minimum 0 and maximum 1."
   ]
  },
  {
   "cell_type": "code",
   "execution_count": 10,
   "metadata": {},
   "outputs": [],
   "source": [
    "X_train, y_train = cc_train.iloc[:,:-1].values, cc_train.iloc[:,[-1]].values\n",
    "X_test, y_test = cc_test.iloc[:,:-1].values, cc_test.iloc[:,[-1]].values\n",
    "\n",
    "from sklearn.preprocessing import MinMaxScaler\n",
    "scaler = MinMaxScaler(feature_range=(0,1))\n",
    "scaledX_train = scaler.fit_transform(X_train)\n",
    "scaledX_test = scaler.transform(X_test)"
   ]
  },
  {
   "cell_type": "markdown",
   "metadata": {},
   "source": [
    "#### 2. Model Training\n",
    "\n",
    "One of the important factors and advantages of using a credit card is the practicality and speed of transactions. Therefore, the automatic validation system must have high performance but still be fast. So that the machine learning model used must be light but still effective.\n",
    "\n",
    "Of the many types of machine learning models, the lightest model for this type of classification is \"Logistic regression\" and to find the best performance of the type of logistic regression model in the Dataset, a search for the most appropriate parameters is carried out."
   ]
  },
  {
   "cell_type": "code",
   "execution_count": 11,
   "metadata": {},
   "outputs": [
    {
     "name": "stdout",
     "output_type": "stream",
     "text": [
      "Best Accuration : 1.000000\n",
      "Best Parameter  : {'max_iter': 100, 'tol': 0.01}\n"
     ]
    }
   ],
   "source": [
    "from sklearn.linear_model import LogisticRegression\n",
    "from sklearn.model_selection import GridSearchCV\n",
    "\n",
    "tol = [0.01,0.001,0.0001]\n",
    "max_iter = [100,150,200]\n",
    "parameter = dict(tol=tol,max_iter=max_iter)\n",
    "\n",
    "logreg = LogisticRegression()\n",
    "grid_model = GridSearchCV(estimator=logreg,param_grid=parameter,cv=13)\n",
    "\n",
    "grid_model_result = grid_model.fit(scaledX_train,y_train.ravel())\n",
    "print(\"Best Accuration : %f\" % (grid_model_result.best_score_))\n",
    "print(\"Best Parameter  :\", grid_model_result.best_params_)"
   ]
  },
  {
   "cell_type": "code",
   "execution_count": 12,
   "metadata": {},
   "outputs": [
    {
     "name": "stdout",
     "output_type": "stream",
     "text": [
      "Model Accuracy on the test dataset 1.0\n"
     ]
    }
   ],
   "source": [
    "best_model = grid_model_result.best_estimator_\n",
    "\n",
    "score_test = best_model.score(scaledX_test,y_test)\n",
    "print(\"Model Accuracy on the test dataset\", score_test)"
   ]
  },
  {
   "cell_type": "code",
   "execution_count": 13,
   "metadata": {},
   "outputs": [
    {
     "data": {
      "text/plain": [
       "array([[ 97,   0],\n",
       "       [  0, 110]])"
      ]
     },
     "execution_count": 13,
     "metadata": {},
     "output_type": "execute_result"
    }
   ],
   "source": [
    "from sklearn.metrics import confusion_matrix\n",
    "y_pred = best_model.predict(scaledX_test)\n",
    "\n",
    "confusion_matrix(y_test,y_pred)"
   ]
  },
  {
   "cell_type": "markdown",
   "metadata": {},
   "source": [
    "Based on the accuracy and confusion matrix, information is obtained that the machine learning model created has succeeded in accurately classifying the test dataset, with the following results:\n",
    "### 97 Fraud Transactions\n",
    "### 110 Valid Transaction"
   ]
  }
 ],
 "metadata": {
  "kernelspec": {
   "display_name": "Python 3.10.3 64-bit",
   "language": "python",
   "name": "python3"
  },
  "language_info": {
   "codemirror_mode": {
    "name": "ipython",
    "version": 3
   },
   "file_extension": ".py",
   "mimetype": "text/x-python",
   "name": "python",
   "nbconvert_exporter": "python",
   "pygments_lexer": "ipython3",
   "version": "3.10.3"
  },
  "orig_nbformat": 4,
  "vscode": {
   "interpreter": {
    "hash": "6e99e82d4437add478f86ad82dc70d40414c9fe5a8ce740e5487bc24987be5aa"
   }
  }
 },
 "nbformat": 4,
 "nbformat_minor": 2
}
